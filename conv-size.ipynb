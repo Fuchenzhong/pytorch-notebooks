{
 "cells": [
  {
   "cell_type": "code",
   "execution_count": 1,
   "metadata": {},
   "outputs": [],
   "source": [
    "import torch\n",
    "import torch.nn as nn"
   ]
  },
  {
   "cell_type": "markdown",
   "metadata": {},
   "source": [
    "Calculate the sizes for torch conv2dTranspose layers to produce a desired output size from\n",
    "a provided input size.\n"
   ]
  },
  {
   "cell_type": "code",
   "execution_count": 2,
   "metadata": {},
   "outputs": [],
   "source": [
    "def calc_size( dim, layer ) :\n",
    "    return ( dim-1 ) * layer['stride'] - ( 2 * layer['padding'] ) + layer['kernel'] + layer['out_padding'] "
   ]
  },
  {
   "cell_type": "code",
   "execution_count": 3,
   "metadata": {},
   "outputs": [],
   "source": [
    "def find_size( insz, outsz, depth=0 ) :\n",
    "    if depth < 4 :\n",
    "        layer = {}\n",
    "        for layer['stride'] in range( 1,3 ) :\n",
    "            for layer['kernel'] in range( 2,11,2 ) :\n",
    "                for layer['padding'] in range( 0,(layer['kernel']+1)>>1 ) :\n",
    "                    for layer['out_padding'] in range( 0,layer['stride'] ) :\n",
    "                        sz = calc_size( insz, layer )\n",
    "                        if sz==outsz :\n",
    "                            yield [ (layer, sz) ]\n",
    "                        elif sz>insz :\n",
    "                            for r in find_size( sz, outsz, depth+1 ) :\n",
    "                                r.append( (layer, sz) )\n",
    "                                yield r"
   ]
  },
  {
   "cell_type": "code",
   "execution_count": 6,
   "metadata": {},
   "outputs": [
    {
     "name": "stdout",
     "output_type": "stream",
     "text": [
      "------------ 1 ------------\n",
      "layers=[\n",
      "nn.ConvTranspose2d( nc, nc, 2, stride=1, padding=0, output_padding=0, bias=False), # out size 8\n",
      "nn.ConvTranspose2d( nc, nc, 4, stride=1, padding=0, output_padding=0, bias=False), # out size 11\n",
      "nn.ConvTranspose2d( nc, nc, 8, stride=2, padding=0, output_padding=0, bias=False), # out size 28\n",
      "nn.ConvTranspose2d( nc, nc, 10, stride=2, padding=0, output_padding=0, bias=False), # out size 64\n",
      "]\n",
      "------------ 2 ------------\n",
      "layers=[\n",
      "nn.ConvTranspose2d( nc, nc, 2, stride=1, padding=0, output_padding=0, bias=False), # out size 8\n",
      "nn.ConvTranspose2d( nc, nc, 4, stride=1, padding=0, output_padding=0, bias=False), # out size 11\n",
      "nn.ConvTranspose2d( nc, nc, 8, stride=2, padding=0, output_padding=1, bias=False), # out size 29\n",
      "nn.ConvTranspose2d( nc, nc, 8, stride=2, padding=0, output_padding=0, bias=False), # out size 64\n",
      "]\n",
      "------------ 3 ------------\n",
      "layers=[\n",
      "nn.ConvTranspose2d( nc, nc, 2, stride=1, padding=0, output_padding=0, bias=False), # out size 8\n",
      "nn.ConvTranspose2d( nc, nc, 4, stride=1, padding=0, output_padding=0, bias=False), # out size 11\n",
      "nn.ConvTranspose2d( nc, nc, 8, stride=2, padding=0, output_padding=1, bias=False), # out size 29\n",
      "nn.ConvTranspose2d( nc, nc, 10, stride=2, padding=1, output_padding=0, bias=False), # out size 64\n",
      "]\n",
      "------------ 4 ------------\n",
      "layers=[\n",
      "nn.ConvTranspose2d( nc, nc, 2, stride=1, padding=0, output_padding=0, bias=False), # out size 8\n",
      "nn.ConvTranspose2d( nc, nc, 4, stride=1, padding=0, output_padding=0, bias=False), # out size 11\n",
      "nn.ConvTranspose2d( nc, nc, 10, stride=2, padding=0, output_padding=0, bias=False), # out size 30\n",
      "nn.ConvTranspose2d( nc, nc, 6, stride=2, padding=0, output_padding=0, bias=False), # out size 64\n",
      "]\n",
      "------------ 5 ------------\n",
      "layers=[\n",
      "nn.ConvTranspose2d( nc, nc, 2, stride=1, padding=0, output_padding=0, bias=False), # out size 8\n",
      "nn.ConvTranspose2d( nc, nc, 4, stride=1, padding=0, output_padding=0, bias=False), # out size 11\n",
      "nn.ConvTranspose2d( nc, nc, 10, stride=2, padding=0, output_padding=0, bias=False), # out size 30\n",
      "nn.ConvTranspose2d( nc, nc, 8, stride=2, padding=1, output_padding=0, bias=False), # out size 64\n",
      "]\n",
      "------------ 6 ------------\n",
      "layers=[\n",
      "nn.ConvTranspose2d( nc, nc, 2, stride=1, padding=0, output_padding=0, bias=False), # out size 8\n",
      "nn.ConvTranspose2d( nc, nc, 4, stride=1, padding=0, output_padding=0, bias=False), # out size 11\n",
      "nn.ConvTranspose2d( nc, nc, 10, stride=2, padding=0, output_padding=0, bias=False), # out size 30\n",
      "nn.ConvTranspose2d( nc, nc, 10, stride=2, padding=2, output_padding=0, bias=False), # out size 64\n",
      "]\n",
      "------------ 7 ------------\n",
      "layers=[\n",
      "nn.ConvTranspose2d( nc, nc, 2, stride=1, padding=0, output_padding=0, bias=False), # out size 8\n",
      "nn.ConvTranspose2d( nc, nc, 4, stride=1, padding=0, output_padding=0, bias=False), # out size 11\n",
      "nn.ConvTranspose2d( nc, nc, 10, stride=2, padding=0, output_padding=1, bias=False), # out size 31\n",
      "nn.ConvTranspose2d( nc, nc, 4, stride=2, padding=0, output_padding=0, bias=False), # out size 64\n",
      "]\n",
      "------------ 8 ------------\n",
      "layers=[\n",
      "nn.ConvTranspose2d( nc, nc, 2, stride=1, padding=0, output_padding=0, bias=False), # out size 8\n",
      "nn.ConvTranspose2d( nc, nc, 4, stride=1, padding=0, output_padding=0, bias=False), # out size 11\n",
      "nn.ConvTranspose2d( nc, nc, 10, stride=2, padding=0, output_padding=1, bias=False), # out size 31\n",
      "nn.ConvTranspose2d( nc, nc, 6, stride=2, padding=1, output_padding=0, bias=False), # out size 64\n",
      "]\n",
      "------------ 9 ------------\n",
      "layers=[\n",
      "nn.ConvTranspose2d( nc, nc, 2, stride=1, padding=0, output_padding=0, bias=False), # out size 8\n",
      "nn.ConvTranspose2d( nc, nc, 4, stride=1, padding=0, output_padding=0, bias=False), # out size 11\n",
      "nn.ConvTranspose2d( nc, nc, 10, stride=2, padding=0, output_padding=1, bias=False), # out size 31\n",
      "nn.ConvTranspose2d( nc, nc, 8, stride=2, padding=2, output_padding=0, bias=False), # out size 64\n",
      "]\n",
      "------------ 10 ------------\n",
      "layers=[\n",
      "nn.ConvTranspose2d( nc, nc, 2, stride=1, padding=0, output_padding=0, bias=False), # out size 8\n",
      "nn.ConvTranspose2d( nc, nc, 4, stride=1, padding=0, output_padding=0, bias=False), # out size 11\n",
      "nn.ConvTranspose2d( nc, nc, 10, stride=2, padding=0, output_padding=1, bias=False), # out size 31\n",
      "nn.ConvTranspose2d( nc, nc, 10, stride=2, padding=3, output_padding=0, bias=False), # out size 64\n",
      "]\n"
     ]
    }
   ],
   "source": [
    "input = 7\n",
    "output = 64\n",
    "\n",
    "ge = find_size( input, output )\n",
    "n = 0\n",
    "for r in ge :\n",
    "    r.reverse()\n",
    "    n = n + 1\n",
    "    if n > 10 :\n",
    "        break\n",
    "    print( \"------------\", n , \"------------\" )\n",
    "    print( \"layers=[\")\n",
    "    for l in r :        \n",
    "        print( \"nn.ConvTranspose2d( nc, nc, \" + str( l[0]['kernel'] )\n",
    "              + \", stride=\" + str( l[0]['stride'] )\n",
    "              + \", padding=\" + str( l[0]['padding'] )\n",
    "              + \", output_padding=\" + str( l[0]['out_padding'] ) \n",
    "              + \", bias=False), # out size \" + str( l[1] ) )\n",
    "    print( \"]\" )\n",
    "        \n",
    "if n==0 :\n",
    "    print( \"No solution\" )\n"
   ]
  },
  {
   "cell_type": "markdown",
   "metadata": {},
   "source": [
    "This is a sample test for the results.\n",
    "This skeleton can be used to verify the outputs. Overwrite the ```layers=[...]``` \n",
    "section with one copied from above.\n"
   ]
  },
  {
   "cell_type": "code",
   "execution_count": 5,
   "metadata": {},
   "outputs": [
    {
     "name": "stdout",
     "output_type": "stream",
     "text": [
      "torch.Size([3, 1, 64, 64])\n"
     ]
    }
   ],
   "source": [
    "nc = 1\n",
    "h = 7\n",
    "w = 7\n",
    "X = torch.randn( 3, nc, h, w )\n",
    "\n",
    "layers=[\n",
    "nn.ConvTranspose2d( nc, nc, 2, stride=1, padding=0, output_padding=0, bias=False), # out size 8\n",
    "nn.ConvTranspose2d( nc, nc, 4, stride=1, padding=0, output_padding=0, bias=False), # out size 11\n",
    "nn.ConvTranspose2d( nc, nc, 10, stride=2, padding=0, output_padding=0, bias=False), # out size 30\n",
    "nn.ConvTranspose2d( nc, nc, 6, stride=2, padding=0, output_padding=0, bias=False), # out size 64\n",
    "]\n",
    "\n",
    "for l in layers :\n",
    "    X = l.forward( X )\n",
    "print ( X.size() )"
   ]
  },
  {
   "cell_type": "code",
   "execution_count": null,
   "metadata": {},
   "outputs": [],
   "source": []
  }
 ],
 "metadata": {
  "kernelspec": {
   "display_name": "Python 3",
   "language": "python",
   "name": "python3"
  },
  "language_info": {
   "codemirror_mode": {
    "name": "ipython",
    "version": 3
   },
   "file_extension": ".py",
   "mimetype": "text/x-python",
   "name": "python",
   "nbconvert_exporter": "python",
   "pygments_lexer": "ipython3",
   "version": "3.6.5"
  }
 },
 "nbformat": 4,
 "nbformat_minor": 2
}
