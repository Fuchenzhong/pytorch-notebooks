{
 "cells": [
  {
   "cell_type": "markdown",
   "metadata": {},
   "source": [
    "## Linear Regression using pytorch ( part 3 )\n",
    "\n",
    "This builds on Linear Regression part 1 \n",
    "\n",
    "Previously we saw how to perform linear regression, on the complete sample. Sometimes (quite often actually) we have thousands of attributes and millions of observations. It's not feasible to fit the entire input data into memory. \n",
    "\n",
    "This section describes a different method: gradient descent, which we can use to perform linear regression in batches. Fortunately pytorch makes this easy for us."
   ]
  },
  {
   "cell_type": "code",
   "execution_count": 1,
   "metadata": {},
   "outputs": [],
   "source": [
    "import math\n",
    "import torch\n",
    "import matplotlib.pyplot as plt"
   ]
  },
  {
   "cell_type": "code",
   "execution_count": 2,
   "metadata": {},
   "outputs": [],
   "source": [
    "m = 2\n",
    "c = -5\n",
    "noisiness = 7\n",
    "num_points = 20\n",
    "\n",
    "num_epochs = 500"
   ]
  },
  {
   "cell_type": "markdown",
   "metadata": {},
   "source": [
    "A method to get the next items in a batch. This sample provides test data, a real method might load items from a file."
   ]
  },
  {
   "cell_type": "code",
   "execution_count": 3,
   "metadata": {},
   "outputs": [],
   "source": [
    "def get_next_batch( batch_size ) :\n",
    "    x = ( torch.rand( batch_size, 1 ) - 0.5 ) * 10\n",
    "    y = ( ( torch.rand( batch_size, 1 ) - 0.5 ) * noisiness ) + ( x * m + c )\n",
    "    return x, y"
   ]
  },
  {
   "cell_type": "code",
   "execution_count": 4,
   "metadata": {},
   "outputs": [
    {
     "data": {
      "image/png": "[encoded data removed]",
      "text/plain": [
       "<Figure size 432x288 with 1 Axes>"
      ]
     },
     "metadata": {},
     "output_type": "display_data"
    }
   ],
   "source": [
    "x, y = get_next_batch( num_points )\n",
    "\n",
    "plt.scatter( x.tolist(), y.tolist(), color='red' )\n",
    "plt.show()"
   ]
  },
  {
   "cell_type": "markdown",
   "metadata": {},
   "source": [
    "Run the standard linear regression, to find a straight line fit"
   ]
  },
  {
   "cell_type": "code",
   "execution_count": 6,
   "metadata": {},
   "outputs": [],
   "source": [
    "linear = torch.nn.Linear( 1, 1, bias=True )\n",
    "criterion = torch.nn.MSELoss()\n",
    "learning_parameters = 0.01\n",
    "optimizer = torch.optim.SGD( linear.parameters(), lr=learning_parameters )"
   ]
  },
  {
   "cell_type": "code",
   "execution_count": 7,
   "metadata": {},
   "outputs": [],
   "source": [
    "for epoch in range( num_epochs ):\n",
    "    optimizer.zero_grad()\n",
    "    \n",
    "    x_batch, y_batch = get_next_batch( num_points )\n",
    "\n",
    "    linear_outputs = linear(x_batch)\n",
    "    loss = criterion(linear_outputs, y_batch)\n",
    "    loss.backward()\n",
    "    optimizer.step()"
   ]
  },
  {
   "cell_type": "code",
   "execution_count": 8,
   "metadata": {},
   "outputs": [],
   "source": [
    "model_m = list( linear.parameters() )[0].item()\n",
    "model_c = linear.bias.item()\n",
    "R = torch.tensor( [ model_c, model_m ] ).unsqueeze(1)"
   ]
  },
  {
   "cell_type": "markdown",
   "metadata": {},
   "source": [
    "Plot the data"
   ]
  },
  {
   "cell_type": "code",
   "execution_count": 9,
   "metadata": {},
   "outputs": [
    {
     "data": {
      "image/png": "[encoded data removed]",
      "text/plain": [
       "<Figure size 432x288 with 1 Axes>"
      ]
     },
     "metadata": {},
     "output_type": "display_data"
    }
   ],
   "source": [
    "yh = xplusone.mm( R ) \n",
    "plt.plot( x.tolist(), yh.tolist() )\n",
    "plt.scatter( x.tolist(), y.tolist(), color='red' )\n",
    "plt.show()"
   ]
  }
 ],
 "metadata": {
  "kernelspec": {
   "display_name": "Python 3",
   "language": "python",
   "name": "python3"
  },
  "language_info": {
   "codemirror_mode": {
    "name": "ipython",
    "version": 3
   },
   "file_extension": ".py",
   "mimetype": "text/x-python",
   "name": "python",
   "nbconvert_exporter": "python",
   "pygments_lexer": "ipython3",
   "version": "3.6.6"
  }
 },
 "nbformat": 4,
 "nbformat_minor": 2
}
